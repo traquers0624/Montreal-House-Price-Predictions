{
 "cells": [
  {
   "cell_type": "code",
   "execution_count": 1,
   "id": "c318d9e5-6e06-4cd7-8f6a-45ab51f96d9a",
   "metadata": {},
   "outputs": [],
   "source": [
    "import pandas as pd\n",
    "import numpy as np\n",
    "from matplotlib import pyplot as plt\n",
    "%matplotlib inline\n",
    "import matplotlib\n",
    "matplotlib.rcParams[\"figure.figsize\"] = (20,10)"
   ]
  },
  {
   "cell_type": "code",
   "execution_count": 2,
   "id": "066e6839-4289-4e06-b165-df26fad86d52",
   "metadata": {},
   "outputs": [
    {
     "data": {
      "text/html": [
       "<div>\n",
       "<style scoped>\n",
       "    .dataframe tbody tr th:only-of-type {\n",
       "        vertical-align: middle;\n",
       "    }\n",
       "\n",
       "    .dataframe tbody tr th {\n",
       "        vertical-align: top;\n",
       "    }\n",
       "\n",
       "    .dataframe thead th {\n",
       "        text-align: right;\n",
       "    }\n",
       "</style>\n",
       "<table border=\"1\" class=\"dataframe\">\n",
       "  <thead>\n",
       "    <tr style=\"text-align: right;\">\n",
       "      <th></th>\n",
       "      <th>price</th>\n",
       "      <th>region</th>\n",
       "      <th>address</th>\n",
       "      <th>bedrooms</th>\n",
       "    </tr>\n",
       "  </thead>\n",
       "  <tbody>\n",
       "    <tr>\n",
       "      <th>0</th>\n",
       "      <td>849000.0</td>\n",
       "      <td>Mercier / Hochelaga / Maisonneuve</td>\n",
       "      <td>5185-5187 RUE DESMARTEAU</td>\n",
       "      <td>3</td>\n",
       "    </tr>\n",
       "    <tr>\n",
       "      <th>1</th>\n",
       "      <td>420000.0</td>\n",
       "      <td>Villeray / St-Michel / Parc-Extension</td>\n",
       "      <td>417-8635 RUE LAJEUNESSE</td>\n",
       "      <td>2</td>\n",
       "    </tr>\n",
       "    <tr>\n",
       "      <th>2</th>\n",
       "      <td>699000.0</td>\n",
       "      <td>Pointe-Aux-Trembles / Montréal-Est</td>\n",
       "      <td>11901 Victoria</td>\n",
       "      <td>3</td>\n",
       "    </tr>\n",
       "    <tr>\n",
       "      <th>3</th>\n",
       "      <td>349000.0</td>\n",
       "      <td>Rosemont / La Petite Patrie</td>\n",
       "      <td>5919 rue Chabot</td>\n",
       "      <td>1</td>\n",
       "    </tr>\n",
       "    <tr>\n",
       "      <th>4</th>\n",
       "      <td>959000.0</td>\n",
       "      <td>Ahuntsic / Cartierville</td>\n",
       "      <td>2143 boulevard Gouin Est</td>\n",
       "      <td>4</td>\n",
       "    </tr>\n",
       "  </tbody>\n",
       "</table>\n",
       "</div>"
      ],
      "text/plain": [
       "      price                                 region                   address  \\\n",
       "0  849000.0      Mercier / Hochelaga / Maisonneuve  5185-5187 RUE DESMARTEAU   \n",
       "1  420000.0  Villeray / St-Michel / Parc-Extension   417-8635 RUE LAJEUNESSE   \n",
       "2  699000.0     Pointe-Aux-Trembles / Montréal-Est            11901 Victoria   \n",
       "3  349000.0            Rosemont / La Petite Patrie           5919 rue Chabot   \n",
       "4  959000.0                Ahuntsic / Cartierville  2143 boulevard Gouin Est   \n",
       "\n",
       "   bedrooms  \n",
       "0         3  \n",
       "1         2  \n",
       "2         3  \n",
       "3         1  \n",
       "4         4  "
      ]
     },
     "execution_count": 2,
     "metadata": {},
     "output_type": "execute_result"
    }
   ],
   "source": [
    "df1 = pd.read_excel(\"C:/Users/AlexC/Documents/Prog/Montreal House Prices/clean_Montreal_property_listings.xlsx\")\n",
    "df1.head()"
   ]
  },
  {
   "cell_type": "code",
   "execution_count": 3,
   "id": "68603e28-157e-428c-b7ca-414a5619e807",
   "metadata": {},
   "outputs": [
    {
     "data": {
      "text/plain": [
       "(813, 4)"
      ]
     },
     "execution_count": 3,
     "metadata": {},
     "output_type": "execute_result"
    }
   ],
   "source": [
    "df1.shape"
   ]
  },
  {
   "cell_type": "code",
   "execution_count": 4,
   "id": "5a17b173-6e1c-4ba8-88b8-90ffda00c397",
   "metadata": {},
   "outputs": [
    {
     "data": {
      "text/plain": [
       "region\n",
       "Ahuntsic / Cartierville                      62\n",
       "Anjou                                        16\n",
       "Beaconsfield / Baie-D'Urfé                    2\n",
       "Côte-St-Luc / Hampstead / Montréal-Ouest      8\n",
       "Côte-des-Neiges / Notre-Dame-de-Grâce        42\n",
       "Dollard-Des-Ormeaux                           4\n",
       "Dorval / L'Île Dorval                         3\n",
       "Griffintown                                  29\n",
       "Kirkland                                      3\n",
       "L'Ile Des Soeurs                             17\n",
       "L'île-Bizard / Sainte-Geneviève               3\n",
       "LaSalle                                      16\n",
       "Lachine                                      14\n",
       "Le Plateau-Mont-Royal                        50\n",
       "Le Sud-Ouest                                 47\n",
       "Mercier / Hochelaga / Maisonneuve            87\n",
       "Mont-Royal                                    2\n",
       "Montréal-Nord                                15\n",
       "Outremont                                     2\n",
       "Pierrefonds / Roxboro                        17\n",
       "Pointe-Aux-Trembles / Montréal-Est           24\n",
       "Pointe-Claire                                 6\n",
       "Rivière des Prairies                         19\n",
       "Rosemont / La Petite Patrie                  62\n",
       "Saint-Laurent                                39\n",
       "Saint-Léonard                                 8\n",
       "Ste-Anne-De-Bellevue                          1\n",
       "Verdun                                       17\n",
       "Ville-Marie (Centre-Ville et Vieux Mtl)     143\n",
       "Villeray / St-Michel / Parc-Extension        53\n",
       "Westmount                                     2\n",
       "Name: region, dtype: int64"
      ]
     },
     "execution_count": 4,
     "metadata": {},
     "output_type": "execute_result"
    }
   ],
   "source": [
    "df1.groupby('region')['region'].agg('count')"
   ]
  },
  {
   "cell_type": "code",
   "execution_count": 5,
   "id": "a7114617-d775-4158-86f7-4cb0304af79b",
   "metadata": {},
   "outputs": [
    {
     "data": {
      "text/html": [
       "<div>\n",
       "<style scoped>\n",
       "    .dataframe tbody tr th:only-of-type {\n",
       "        vertical-align: middle;\n",
       "    }\n",
       "\n",
       "    .dataframe tbody tr th {\n",
       "        vertical-align: top;\n",
       "    }\n",
       "\n",
       "    .dataframe thead th {\n",
       "        text-align: right;\n",
       "    }\n",
       "</style>\n",
       "<table border=\"1\" class=\"dataframe\">\n",
       "  <thead>\n",
       "    <tr style=\"text-align: right;\">\n",
       "      <th></th>\n",
       "      <th>price</th>\n",
       "      <th>region</th>\n",
       "      <th>bedrooms</th>\n",
       "    </tr>\n",
       "  </thead>\n",
       "  <tbody>\n",
       "    <tr>\n",
       "      <th>0</th>\n",
       "      <td>849000.0</td>\n",
       "      <td>Mercier / Hochelaga / Maisonneuve</td>\n",
       "      <td>3</td>\n",
       "    </tr>\n",
       "    <tr>\n",
       "      <th>1</th>\n",
       "      <td>420000.0</td>\n",
       "      <td>Villeray / St-Michel / Parc-Extension</td>\n",
       "      <td>2</td>\n",
       "    </tr>\n",
       "    <tr>\n",
       "      <th>2</th>\n",
       "      <td>699000.0</td>\n",
       "      <td>Pointe-Aux-Trembles / Montréal-Est</td>\n",
       "      <td>3</td>\n",
       "    </tr>\n",
       "    <tr>\n",
       "      <th>3</th>\n",
       "      <td>349000.0</td>\n",
       "      <td>Rosemont / La Petite Patrie</td>\n",
       "      <td>1</td>\n",
       "    </tr>\n",
       "    <tr>\n",
       "      <th>4</th>\n",
       "      <td>959000.0</td>\n",
       "      <td>Ahuntsic / Cartierville</td>\n",
       "      <td>4</td>\n",
       "    </tr>\n",
       "  </tbody>\n",
       "</table>\n",
       "</div>"
      ],
      "text/plain": [
       "      price                                 region  bedrooms\n",
       "0  849000.0      Mercier / Hochelaga / Maisonneuve         3\n",
       "1  420000.0  Villeray / St-Michel / Parc-Extension         2\n",
       "2  699000.0     Pointe-Aux-Trembles / Montréal-Est         3\n",
       "3  349000.0            Rosemont / La Petite Patrie         1\n",
       "4  959000.0                Ahuntsic / Cartierville         4"
      ]
     },
     "execution_count": 5,
     "metadata": {},
     "output_type": "execute_result"
    }
   ],
   "source": [
    "df2 = df1.drop(['address'],axis='columns')\n",
    "df2.head()"
   ]
  },
  {
   "cell_type": "code",
   "execution_count": 6,
   "id": "7b705e51-9b9f-418c-b875-9c6203d65586",
   "metadata": {},
   "outputs": [
    {
     "data": {
      "text/plain": [
       "price       2\n",
       "region      0\n",
       "bedrooms    0\n",
       "dtype: int64"
      ]
     },
     "execution_count": 6,
     "metadata": {},
     "output_type": "execute_result"
    }
   ],
   "source": [
    "df2.isnull().sum()"
   ]
  },
  {
   "cell_type": "code",
   "execution_count": 7,
   "id": "30cdedfb-0b7f-43f8-9ff8-f1e31484e3aa",
   "metadata": {},
   "outputs": [
    {
     "data": {
      "text/plain": [
       "price       0\n",
       "region      0\n",
       "bedrooms    0\n",
       "dtype: int64"
      ]
     },
     "execution_count": 7,
     "metadata": {},
     "output_type": "execute_result"
    }
   ],
   "source": [
    "df3 = df2.dropna()\n",
    "df3.isnull().sum()"
   ]
  },
  {
   "cell_type": "code",
   "execution_count": 8,
   "id": "22f05325-8f15-4a83-ae7d-d22890cf8c43",
   "metadata": {},
   "outputs": [
    {
     "data": {
      "text/plain": [
       "(811, 3)"
      ]
     },
     "execution_count": 8,
     "metadata": {},
     "output_type": "execute_result"
    }
   ],
   "source": [
    "df3.shape"
   ]
  },
  {
   "cell_type": "code",
   "execution_count": 9,
   "id": "b7d17af1-8324-42f7-99d8-412b913ba273",
   "metadata": {},
   "outputs": [
    {
     "data": {
      "text/plain": [
       "array([3, 2, 1, 4, 5, 6, 7])"
      ]
     },
     "execution_count": 9,
     "metadata": {},
     "output_type": "execute_result"
    }
   ],
   "source": [
    "df3['bedrooms'].unique()"
   ]
  },
  {
   "cell_type": "code",
   "execution_count": 10,
   "id": "87926ef7-2bb0-41f8-8307-aa61822e9979",
   "metadata": {},
   "outputs": [
    {
     "data": {
      "text/html": [
       "<div>\n",
       "<style scoped>\n",
       "    .dataframe tbody tr th:only-of-type {\n",
       "        vertical-align: middle;\n",
       "    }\n",
       "\n",
       "    .dataframe tbody tr th {\n",
       "        vertical-align: top;\n",
       "    }\n",
       "\n",
       "    .dataframe thead th {\n",
       "        text-align: right;\n",
       "    }\n",
       "</style>\n",
       "<table border=\"1\" class=\"dataframe\">\n",
       "  <thead>\n",
       "    <tr style=\"text-align: right;\">\n",
       "      <th></th>\n",
       "      <th>price</th>\n",
       "      <th>region</th>\n",
       "      <th>bedrooms</th>\n",
       "      <th>price_per_bedrooms</th>\n",
       "    </tr>\n",
       "  </thead>\n",
       "  <tbody>\n",
       "    <tr>\n",
       "      <th>0</th>\n",
       "      <td>849000.0</td>\n",
       "      <td>Mercier / Hochelaga / Maisonneuve</td>\n",
       "      <td>3</td>\n",
       "      <td>283000.0</td>\n",
       "    </tr>\n",
       "    <tr>\n",
       "      <th>1</th>\n",
       "      <td>420000.0</td>\n",
       "      <td>Villeray / St-Michel / Parc-Extension</td>\n",
       "      <td>2</td>\n",
       "      <td>210000.0</td>\n",
       "    </tr>\n",
       "    <tr>\n",
       "      <th>2</th>\n",
       "      <td>699000.0</td>\n",
       "      <td>Pointe-Aux-Trembles / Montréal-Est</td>\n",
       "      <td>3</td>\n",
       "      <td>233000.0</td>\n",
       "    </tr>\n",
       "    <tr>\n",
       "      <th>3</th>\n",
       "      <td>349000.0</td>\n",
       "      <td>Rosemont / La Petite Patrie</td>\n",
       "      <td>1</td>\n",
       "      <td>349000.0</td>\n",
       "    </tr>\n",
       "    <tr>\n",
       "      <th>4</th>\n",
       "      <td>959000.0</td>\n",
       "      <td>Ahuntsic / Cartierville</td>\n",
       "      <td>4</td>\n",
       "      <td>239750.0</td>\n",
       "    </tr>\n",
       "  </tbody>\n",
       "</table>\n",
       "</div>"
      ],
      "text/plain": [
       "      price                                 region  bedrooms  \\\n",
       "0  849000.0      Mercier / Hochelaga / Maisonneuve         3   \n",
       "1  420000.0  Villeray / St-Michel / Parc-Extension         2   \n",
       "2  699000.0     Pointe-Aux-Trembles / Montréal-Est         3   \n",
       "3  349000.0            Rosemont / La Petite Patrie         1   \n",
       "4  959000.0                Ahuntsic / Cartierville         4   \n",
       "\n",
       "   price_per_bedrooms  \n",
       "0            283000.0  \n",
       "1            210000.0  \n",
       "2            233000.0  \n",
       "3            349000.0  \n",
       "4            239750.0  "
      ]
     },
     "execution_count": 10,
     "metadata": {},
     "output_type": "execute_result"
    }
   ],
   "source": [
    "df4 = df3.copy()\n",
    "df4['price_per_bedrooms'] = df4['price']/df4['bedrooms']\n",
    "df4.head()"
   ]
  },
  {
   "cell_type": "code",
   "execution_count": 11,
   "id": "28631211-d4a3-4906-9474-ec404f529b14",
   "metadata": {},
   "outputs": [
    {
     "data": {
      "text/plain": [
       "31"
      ]
     },
     "execution_count": 11,
     "metadata": {},
     "output_type": "execute_result"
    }
   ],
   "source": [
    "len(df4.region.unique())"
   ]
  },
  {
   "cell_type": "code",
   "execution_count": 12,
   "id": "eae166af-0037-4905-aea4-cbd323369728",
   "metadata": {},
   "outputs": [
    {
     "data": {
      "text/plain": [
       "region\n",
       "Ville-Marie (Centre-Ville et Vieux Mtl)     143\n",
       "Mercier / Hochelaga / Maisonneuve            87\n",
       "Ahuntsic / Cartierville                      62\n",
       "Rosemont / La Petite Patrie                  62\n",
       "Villeray / St-Michel / Parc-Extension        53\n",
       "Le Plateau-Mont-Royal                        50\n",
       "Le Sud-Ouest                                 46\n",
       "Côte-des-Neiges / Notre-Dame-de-Grâce        41\n",
       "Saint-Laurent                                39\n",
       "Griffintown                                  29\n",
       "Pointe-Aux-Trembles / Montréal-Est           24\n",
       "Rivière des Prairies                         19\n",
       "Pierrefonds / Roxboro                        17\n",
       "L'Ile Des Soeurs                             17\n",
       "Verdun                                       17\n",
       "Anjou                                        16\n",
       "LaSalle                                      16\n",
       "Montréal-Nord                                15\n",
       "Lachine                                      14\n",
       "Saint-Léonard                                 8\n",
       "Côte-St-Luc / Hampstead / Montréal-Ouest      8\n",
       "Pointe-Claire                                 6\n",
       "Dollard-Des-Ormeaux                           4\n",
       "Dorval / L'Île Dorval                         3\n",
       "Kirkland                                      3\n",
       "L'île-Bizard / Sainte-Geneviève               3\n",
       "Beaconsfield / Baie-D'Urfé                    2\n",
       "Mont-Royal                                    2\n",
       "Outremont                                     2\n",
       "Westmount                                     2\n",
       "Ste-Anne-De-Bellevue                          1\n",
       "Name: region, dtype: int64"
      ]
     },
     "execution_count": 12,
     "metadata": {},
     "output_type": "execute_result"
    }
   ],
   "source": [
    "df4.region = df4.region.apply(lambda x: x.strip())\n",
    "region_stats = df4.groupby('region')['region'].agg('count').sort_values(ascending=False)\n",
    "region_stats"
   ]
  },
  {
   "cell_type": "code",
   "execution_count": 13,
   "id": "5eb52168-fe7e-4c3a-8c74-b8094defb865",
   "metadata": {},
   "outputs": [
    {
     "data": {
      "text/html": [
       "<div>\n",
       "<style scoped>\n",
       "    .dataframe tbody tr th:only-of-type {\n",
       "        vertical-align: middle;\n",
       "    }\n",
       "\n",
       "    .dataframe tbody tr th {\n",
       "        vertical-align: top;\n",
       "    }\n",
       "\n",
       "    .dataframe thead th {\n",
       "        text-align: right;\n",
       "    }\n",
       "</style>\n",
       "<table border=\"1\" class=\"dataframe\">\n",
       "  <thead>\n",
       "    <tr style=\"text-align: right;\">\n",
       "      <th></th>\n",
       "      <th>Ahuntsic / Cartierville</th>\n",
       "      <th>Anjou</th>\n",
       "      <th>Beaconsfield / Baie-D'Urfé</th>\n",
       "      <th>Côte-St-Luc / Hampstead / Montréal-Ouest</th>\n",
       "      <th>Côte-des-Neiges / Notre-Dame-de-Grâce</th>\n",
       "      <th>Dollard-Des-Ormeaux</th>\n",
       "      <th>Dorval / L'Île Dorval</th>\n",
       "      <th>Griffintown</th>\n",
       "      <th>Kirkland</th>\n",
       "      <th>L'Ile Des Soeurs</th>\n",
       "      <th>...</th>\n",
       "      <th>Pointe-Claire</th>\n",
       "      <th>Rivière des Prairies</th>\n",
       "      <th>Rosemont / La Petite Patrie</th>\n",
       "      <th>Saint-Laurent</th>\n",
       "      <th>Saint-Léonard</th>\n",
       "      <th>Ste-Anne-De-Bellevue</th>\n",
       "      <th>Verdun</th>\n",
       "      <th>Ville-Marie (Centre-Ville et Vieux Mtl)</th>\n",
       "      <th>Villeray / St-Michel / Parc-Extension</th>\n",
       "      <th>Westmount</th>\n",
       "    </tr>\n",
       "  </thead>\n",
       "  <tbody>\n",
       "    <tr>\n",
       "      <th>0</th>\n",
       "      <td>False</td>\n",
       "      <td>False</td>\n",
       "      <td>False</td>\n",
       "      <td>False</td>\n",
       "      <td>False</td>\n",
       "      <td>False</td>\n",
       "      <td>False</td>\n",
       "      <td>False</td>\n",
       "      <td>False</td>\n",
       "      <td>False</td>\n",
       "      <td>...</td>\n",
       "      <td>False</td>\n",
       "      <td>False</td>\n",
       "      <td>False</td>\n",
       "      <td>False</td>\n",
       "      <td>False</td>\n",
       "      <td>False</td>\n",
       "      <td>False</td>\n",
       "      <td>False</td>\n",
       "      <td>False</td>\n",
       "      <td>False</td>\n",
       "    </tr>\n",
       "    <tr>\n",
       "      <th>1</th>\n",
       "      <td>False</td>\n",
       "      <td>False</td>\n",
       "      <td>False</td>\n",
       "      <td>False</td>\n",
       "      <td>False</td>\n",
       "      <td>False</td>\n",
       "      <td>False</td>\n",
       "      <td>False</td>\n",
       "      <td>False</td>\n",
       "      <td>False</td>\n",
       "      <td>...</td>\n",
       "      <td>False</td>\n",
       "      <td>False</td>\n",
       "      <td>False</td>\n",
       "      <td>False</td>\n",
       "      <td>False</td>\n",
       "      <td>False</td>\n",
       "      <td>False</td>\n",
       "      <td>False</td>\n",
       "      <td>True</td>\n",
       "      <td>False</td>\n",
       "    </tr>\n",
       "    <tr>\n",
       "      <th>2</th>\n",
       "      <td>False</td>\n",
       "      <td>False</td>\n",
       "      <td>False</td>\n",
       "      <td>False</td>\n",
       "      <td>False</td>\n",
       "      <td>False</td>\n",
       "      <td>False</td>\n",
       "      <td>False</td>\n",
       "      <td>False</td>\n",
       "      <td>False</td>\n",
       "      <td>...</td>\n",
       "      <td>False</td>\n",
       "      <td>False</td>\n",
       "      <td>False</td>\n",
       "      <td>False</td>\n",
       "      <td>False</td>\n",
       "      <td>False</td>\n",
       "      <td>False</td>\n",
       "      <td>False</td>\n",
       "      <td>False</td>\n",
       "      <td>False</td>\n",
       "    </tr>\n",
       "  </tbody>\n",
       "</table>\n",
       "<p>3 rows × 31 columns</p>\n",
       "</div>"
      ],
      "text/plain": [
       "   Ahuntsic / Cartierville  Anjou  Beaconsfield / Baie-D'Urfé  \\\n",
       "0                    False  False                       False   \n",
       "1                    False  False                       False   \n",
       "2                    False  False                       False   \n",
       "\n",
       "   Côte-St-Luc / Hampstead / Montréal-Ouest  \\\n",
       "0                                     False   \n",
       "1                                     False   \n",
       "2                                     False   \n",
       "\n",
       "   Côte-des-Neiges / Notre-Dame-de-Grâce  Dollard-Des-Ormeaux  \\\n",
       "0                                  False                False   \n",
       "1                                  False                False   \n",
       "2                                  False                False   \n",
       "\n",
       "   Dorval / L'Île Dorval  Griffintown  Kirkland  L'Ile Des Soeurs  ...  \\\n",
       "0                  False        False     False             False  ...   \n",
       "1                  False        False     False             False  ...   \n",
       "2                  False        False     False             False  ...   \n",
       "\n",
       "   Pointe-Claire  Rivière des Prairies  Rosemont / La Petite Patrie  \\\n",
       "0          False                 False                        False   \n",
       "1          False                 False                        False   \n",
       "2          False                 False                        False   \n",
       "\n",
       "   Saint-Laurent  Saint-Léonard  Ste-Anne-De-Bellevue  Verdun  \\\n",
       "0          False          False                 False   False   \n",
       "1          False          False                 False   False   \n",
       "2          False          False                 False   False   \n",
       "\n",
       "   Ville-Marie (Centre-Ville et Vieux Mtl)  \\\n",
       "0                                    False   \n",
       "1                                    False   \n",
       "2                                    False   \n",
       "\n",
       "   Villeray / St-Michel / Parc-Extension  Westmount  \n",
       "0                                  False      False  \n",
       "1                                   True      False  \n",
       "2                                  False      False  \n",
       "\n",
       "[3 rows x 31 columns]"
      ]
     },
     "execution_count": 13,
     "metadata": {},
     "output_type": "execute_result"
    }
   ],
   "source": [
    "dummies = pd.get_dummies(df4.region)\n",
    "dummies.head(3)"
   ]
  },
  {
   "cell_type": "code",
   "execution_count": 14,
   "id": "981489cb-522d-41a9-8c71-37475ab78397",
   "metadata": {},
   "outputs": [
    {
     "data": {
      "text/html": [
       "<div>\n",
       "<style scoped>\n",
       "    .dataframe tbody tr th:only-of-type {\n",
       "        vertical-align: middle;\n",
       "    }\n",
       "\n",
       "    .dataframe tbody tr th {\n",
       "        vertical-align: top;\n",
       "    }\n",
       "\n",
       "    .dataframe thead th {\n",
       "        text-align: right;\n",
       "    }\n",
       "</style>\n",
       "<table border=\"1\" class=\"dataframe\">\n",
       "  <thead>\n",
       "    <tr style=\"text-align: right;\">\n",
       "      <th></th>\n",
       "      <th>price</th>\n",
       "      <th>region</th>\n",
       "      <th>bedrooms</th>\n",
       "      <th>price_per_bedrooms</th>\n",
       "      <th>Ahuntsic / Cartierville</th>\n",
       "      <th>Anjou</th>\n",
       "      <th>Beaconsfield / Baie-D'Urfé</th>\n",
       "      <th>Côte-St-Luc / Hampstead / Montréal-Ouest</th>\n",
       "      <th>Côte-des-Neiges / Notre-Dame-de-Grâce</th>\n",
       "      <th>Dollard-Des-Ormeaux</th>\n",
       "      <th>...</th>\n",
       "      <th>Pointe-Claire</th>\n",
       "      <th>Rivière des Prairies</th>\n",
       "      <th>Rosemont / La Petite Patrie</th>\n",
       "      <th>Saint-Laurent</th>\n",
       "      <th>Saint-Léonard</th>\n",
       "      <th>Ste-Anne-De-Bellevue</th>\n",
       "      <th>Verdun</th>\n",
       "      <th>Ville-Marie (Centre-Ville et Vieux Mtl)</th>\n",
       "      <th>Villeray / St-Michel / Parc-Extension</th>\n",
       "      <th>Westmount</th>\n",
       "    </tr>\n",
       "  </thead>\n",
       "  <tbody>\n",
       "    <tr>\n",
       "      <th>0</th>\n",
       "      <td>849000.0</td>\n",
       "      <td>Mercier / Hochelaga / Maisonneuve</td>\n",
       "      <td>3</td>\n",
       "      <td>283000.0</td>\n",
       "      <td>False</td>\n",
       "      <td>False</td>\n",
       "      <td>False</td>\n",
       "      <td>False</td>\n",
       "      <td>False</td>\n",
       "      <td>False</td>\n",
       "      <td>...</td>\n",
       "      <td>False</td>\n",
       "      <td>False</td>\n",
       "      <td>False</td>\n",
       "      <td>False</td>\n",
       "      <td>False</td>\n",
       "      <td>False</td>\n",
       "      <td>False</td>\n",
       "      <td>False</td>\n",
       "      <td>False</td>\n",
       "      <td>False</td>\n",
       "    </tr>\n",
       "    <tr>\n",
       "      <th>1</th>\n",
       "      <td>420000.0</td>\n",
       "      <td>Villeray / St-Michel / Parc-Extension</td>\n",
       "      <td>2</td>\n",
       "      <td>210000.0</td>\n",
       "      <td>False</td>\n",
       "      <td>False</td>\n",
       "      <td>False</td>\n",
       "      <td>False</td>\n",
       "      <td>False</td>\n",
       "      <td>False</td>\n",
       "      <td>...</td>\n",
       "      <td>False</td>\n",
       "      <td>False</td>\n",
       "      <td>False</td>\n",
       "      <td>False</td>\n",
       "      <td>False</td>\n",
       "      <td>False</td>\n",
       "      <td>False</td>\n",
       "      <td>False</td>\n",
       "      <td>True</td>\n",
       "      <td>False</td>\n",
       "    </tr>\n",
       "    <tr>\n",
       "      <th>2</th>\n",
       "      <td>699000.0</td>\n",
       "      <td>Pointe-Aux-Trembles / Montréal-Est</td>\n",
       "      <td>3</td>\n",
       "      <td>233000.0</td>\n",
       "      <td>False</td>\n",
       "      <td>False</td>\n",
       "      <td>False</td>\n",
       "      <td>False</td>\n",
       "      <td>False</td>\n",
       "      <td>False</td>\n",
       "      <td>...</td>\n",
       "      <td>False</td>\n",
       "      <td>False</td>\n",
       "      <td>False</td>\n",
       "      <td>False</td>\n",
       "      <td>False</td>\n",
       "      <td>False</td>\n",
       "      <td>False</td>\n",
       "      <td>False</td>\n",
       "      <td>False</td>\n",
       "      <td>False</td>\n",
       "    </tr>\n",
       "  </tbody>\n",
       "</table>\n",
       "<p>3 rows × 35 columns</p>\n",
       "</div>"
      ],
      "text/plain": [
       "      price                                 region  bedrooms  \\\n",
       "0  849000.0      Mercier / Hochelaga / Maisonneuve         3   \n",
       "1  420000.0  Villeray / St-Michel / Parc-Extension         2   \n",
       "2  699000.0     Pointe-Aux-Trembles / Montréal-Est         3   \n",
       "\n",
       "   price_per_bedrooms  Ahuntsic / Cartierville  Anjou  \\\n",
       "0            283000.0                    False  False   \n",
       "1            210000.0                    False  False   \n",
       "2            233000.0                    False  False   \n",
       "\n",
       "   Beaconsfield / Baie-D'Urfé  Côte-St-Luc / Hampstead / Montréal-Ouest  \\\n",
       "0                       False                                     False   \n",
       "1                       False                                     False   \n",
       "2                       False                                     False   \n",
       "\n",
       "   Côte-des-Neiges / Notre-Dame-de-Grâce  Dollard-Des-Ormeaux  ...  \\\n",
       "0                                  False                False  ...   \n",
       "1                                  False                False  ...   \n",
       "2                                  False                False  ...   \n",
       "\n",
       "   Pointe-Claire  Rivière des Prairies  Rosemont / La Petite Patrie  \\\n",
       "0          False                 False                        False   \n",
       "1          False                 False                        False   \n",
       "2          False                 False                        False   \n",
       "\n",
       "   Saint-Laurent  Saint-Léonard  Ste-Anne-De-Bellevue  Verdun  \\\n",
       "0          False          False                 False   False   \n",
       "1          False          False                 False   False   \n",
       "2          False          False                 False   False   \n",
       "\n",
       "   Ville-Marie (Centre-Ville et Vieux Mtl)  \\\n",
       "0                                    False   \n",
       "1                                    False   \n",
       "2                                    False   \n",
       "\n",
       "   Villeray / St-Michel / Parc-Extension  Westmount  \n",
       "0                                  False      False  \n",
       "1                                   True      False  \n",
       "2                                  False      False  \n",
       "\n",
       "[3 rows x 35 columns]"
      ]
     },
     "execution_count": 14,
     "metadata": {},
     "output_type": "execute_result"
    }
   ],
   "source": [
    "df5 = pd.concat([df4,dummies],axis='columns')\n",
    "df5.head(3)"
   ]
  },
  {
   "cell_type": "code",
   "execution_count": 15,
   "id": "92bf7a3c-ee34-4578-8e8c-04072039690d",
   "metadata": {},
   "outputs": [
    {
     "data": {
      "text/html": [
       "<div>\n",
       "<style scoped>\n",
       "    .dataframe tbody tr th:only-of-type {\n",
       "        vertical-align: middle;\n",
       "    }\n",
       "\n",
       "    .dataframe tbody tr th {\n",
       "        vertical-align: top;\n",
       "    }\n",
       "\n",
       "    .dataframe thead th {\n",
       "        text-align: right;\n",
       "    }\n",
       "</style>\n",
       "<table border=\"1\" class=\"dataframe\">\n",
       "  <thead>\n",
       "    <tr style=\"text-align: right;\">\n",
       "      <th></th>\n",
       "      <th>price</th>\n",
       "      <th>bedrooms</th>\n",
       "      <th>price_per_bedrooms</th>\n",
       "      <th>Ahuntsic / Cartierville</th>\n",
       "      <th>Anjou</th>\n",
       "      <th>Beaconsfield / Baie-D'Urfé</th>\n",
       "      <th>Côte-St-Luc / Hampstead / Montréal-Ouest</th>\n",
       "      <th>Côte-des-Neiges / Notre-Dame-de-Grâce</th>\n",
       "      <th>Dollard-Des-Ormeaux</th>\n",
       "      <th>Dorval / L'Île Dorval</th>\n",
       "      <th>...</th>\n",
       "      <th>Pointe-Claire</th>\n",
       "      <th>Rivière des Prairies</th>\n",
       "      <th>Rosemont / La Petite Patrie</th>\n",
       "      <th>Saint-Laurent</th>\n",
       "      <th>Saint-Léonard</th>\n",
       "      <th>Ste-Anne-De-Bellevue</th>\n",
       "      <th>Verdun</th>\n",
       "      <th>Ville-Marie (Centre-Ville et Vieux Mtl)</th>\n",
       "      <th>Villeray / St-Michel / Parc-Extension</th>\n",
       "      <th>Westmount</th>\n",
       "    </tr>\n",
       "  </thead>\n",
       "  <tbody>\n",
       "    <tr>\n",
       "      <th>0</th>\n",
       "      <td>849000.0</td>\n",
       "      <td>3</td>\n",
       "      <td>283000.0</td>\n",
       "      <td>False</td>\n",
       "      <td>False</td>\n",
       "      <td>False</td>\n",
       "      <td>False</td>\n",
       "      <td>False</td>\n",
       "      <td>False</td>\n",
       "      <td>False</td>\n",
       "      <td>...</td>\n",
       "      <td>False</td>\n",
       "      <td>False</td>\n",
       "      <td>False</td>\n",
       "      <td>False</td>\n",
       "      <td>False</td>\n",
       "      <td>False</td>\n",
       "      <td>False</td>\n",
       "      <td>False</td>\n",
       "      <td>False</td>\n",
       "      <td>False</td>\n",
       "    </tr>\n",
       "    <tr>\n",
       "      <th>1</th>\n",
       "      <td>420000.0</td>\n",
       "      <td>2</td>\n",
       "      <td>210000.0</td>\n",
       "      <td>False</td>\n",
       "      <td>False</td>\n",
       "      <td>False</td>\n",
       "      <td>False</td>\n",
       "      <td>False</td>\n",
       "      <td>False</td>\n",
       "      <td>False</td>\n",
       "      <td>...</td>\n",
       "      <td>False</td>\n",
       "      <td>False</td>\n",
       "      <td>False</td>\n",
       "      <td>False</td>\n",
       "      <td>False</td>\n",
       "      <td>False</td>\n",
       "      <td>False</td>\n",
       "      <td>False</td>\n",
       "      <td>True</td>\n",
       "      <td>False</td>\n",
       "    </tr>\n",
       "  </tbody>\n",
       "</table>\n",
       "<p>2 rows × 34 columns</p>\n",
       "</div>"
      ],
      "text/plain": [
       "      price  bedrooms  price_per_bedrooms  Ahuntsic / Cartierville  Anjou  \\\n",
       "0  849000.0         3            283000.0                    False  False   \n",
       "1  420000.0         2            210000.0                    False  False   \n",
       "\n",
       "   Beaconsfield / Baie-D'Urfé  Côte-St-Luc / Hampstead / Montréal-Ouest  \\\n",
       "0                       False                                     False   \n",
       "1                       False                                     False   \n",
       "\n",
       "   Côte-des-Neiges / Notre-Dame-de-Grâce  Dollard-Des-Ormeaux  \\\n",
       "0                                  False                False   \n",
       "1                                  False                False   \n",
       "\n",
       "   Dorval / L'Île Dorval  ...  Pointe-Claire  Rivière des Prairies  \\\n",
       "0                  False  ...          False                 False   \n",
       "1                  False  ...          False                 False   \n",
       "\n",
       "   Rosemont / La Petite Patrie  Saint-Laurent  Saint-Léonard  \\\n",
       "0                        False          False          False   \n",
       "1                        False          False          False   \n",
       "\n",
       "   Ste-Anne-De-Bellevue  Verdun  Ville-Marie (Centre-Ville et Vieux Mtl)  \\\n",
       "0                 False   False                                    False   \n",
       "1                 False   False                                    False   \n",
       "\n",
       "   Villeray / St-Michel / Parc-Extension  Westmount  \n",
       "0                                  False      False  \n",
       "1                                   True      False  \n",
       "\n",
       "[2 rows x 34 columns]"
      ]
     },
     "execution_count": 15,
     "metadata": {},
     "output_type": "execute_result"
    }
   ],
   "source": [
    "df6 = df5.drop('region',axis='columns')\n",
    "df6.head(2)"
   ]
  },
  {
   "cell_type": "code",
   "execution_count": 16,
   "id": "fcec7784-ee92-414c-b9c3-74987227c61d",
   "metadata": {},
   "outputs": [
    {
     "data": {
      "text/plain": [
       "(811, 34)"
      ]
     },
     "execution_count": 16,
     "metadata": {},
     "output_type": "execute_result"
    }
   ],
   "source": [
    "df6.shape"
   ]
  },
  {
   "cell_type": "code",
   "execution_count": 17,
   "id": "558c223b-89d3-466b-9456-8fedf308c762",
   "metadata": {},
   "outputs": [],
   "source": [
    "X = df6.drop('price',axis='columns')\n",
    "X = X.drop('price_per_bedrooms',axis='columns')"
   ]
  },
  {
   "cell_type": "code",
   "execution_count": 18,
   "id": "04b93698-3d99-4844-9d13-134d8459f527",
   "metadata": {},
   "outputs": [
    {
     "data": {
      "text/html": [
       "<div>\n",
       "<style scoped>\n",
       "    .dataframe tbody tr th:only-of-type {\n",
       "        vertical-align: middle;\n",
       "    }\n",
       "\n",
       "    .dataframe tbody tr th {\n",
       "        vertical-align: top;\n",
       "    }\n",
       "\n",
       "    .dataframe thead th {\n",
       "        text-align: right;\n",
       "    }\n",
       "</style>\n",
       "<table border=\"1\" class=\"dataframe\">\n",
       "  <thead>\n",
       "    <tr style=\"text-align: right;\">\n",
       "      <th></th>\n",
       "      <th>bedrooms</th>\n",
       "      <th>Ahuntsic / Cartierville</th>\n",
       "      <th>Anjou</th>\n",
       "      <th>Beaconsfield / Baie-D'Urfé</th>\n",
       "      <th>Côte-St-Luc / Hampstead / Montréal-Ouest</th>\n",
       "      <th>Côte-des-Neiges / Notre-Dame-de-Grâce</th>\n",
       "      <th>Dollard-Des-Ormeaux</th>\n",
       "      <th>Dorval / L'Île Dorval</th>\n",
       "      <th>Griffintown</th>\n",
       "      <th>Kirkland</th>\n",
       "      <th>...</th>\n",
       "      <th>Pointe-Claire</th>\n",
       "      <th>Rivière des Prairies</th>\n",
       "      <th>Rosemont / La Petite Patrie</th>\n",
       "      <th>Saint-Laurent</th>\n",
       "      <th>Saint-Léonard</th>\n",
       "      <th>Ste-Anne-De-Bellevue</th>\n",
       "      <th>Verdun</th>\n",
       "      <th>Ville-Marie (Centre-Ville et Vieux Mtl)</th>\n",
       "      <th>Villeray / St-Michel / Parc-Extension</th>\n",
       "      <th>Westmount</th>\n",
       "    </tr>\n",
       "  </thead>\n",
       "  <tbody>\n",
       "    <tr>\n",
       "      <th>0</th>\n",
       "      <td>3</td>\n",
       "      <td>False</td>\n",
       "      <td>False</td>\n",
       "      <td>False</td>\n",
       "      <td>False</td>\n",
       "      <td>False</td>\n",
       "      <td>False</td>\n",
       "      <td>False</td>\n",
       "      <td>False</td>\n",
       "      <td>False</td>\n",
       "      <td>...</td>\n",
       "      <td>False</td>\n",
       "      <td>False</td>\n",
       "      <td>False</td>\n",
       "      <td>False</td>\n",
       "      <td>False</td>\n",
       "      <td>False</td>\n",
       "      <td>False</td>\n",
       "      <td>False</td>\n",
       "      <td>False</td>\n",
       "      <td>False</td>\n",
       "    </tr>\n",
       "    <tr>\n",
       "      <th>1</th>\n",
       "      <td>2</td>\n",
       "      <td>False</td>\n",
       "      <td>False</td>\n",
       "      <td>False</td>\n",
       "      <td>False</td>\n",
       "      <td>False</td>\n",
       "      <td>False</td>\n",
       "      <td>False</td>\n",
       "      <td>False</td>\n",
       "      <td>False</td>\n",
       "      <td>...</td>\n",
       "      <td>False</td>\n",
       "      <td>False</td>\n",
       "      <td>False</td>\n",
       "      <td>False</td>\n",
       "      <td>False</td>\n",
       "      <td>False</td>\n",
       "      <td>False</td>\n",
       "      <td>False</td>\n",
       "      <td>True</td>\n",
       "      <td>False</td>\n",
       "    </tr>\n",
       "    <tr>\n",
       "      <th>2</th>\n",
       "      <td>3</td>\n",
       "      <td>False</td>\n",
       "      <td>False</td>\n",
       "      <td>False</td>\n",
       "      <td>False</td>\n",
       "      <td>False</td>\n",
       "      <td>False</td>\n",
       "      <td>False</td>\n",
       "      <td>False</td>\n",
       "      <td>False</td>\n",
       "      <td>...</td>\n",
       "      <td>False</td>\n",
       "      <td>False</td>\n",
       "      <td>False</td>\n",
       "      <td>False</td>\n",
       "      <td>False</td>\n",
       "      <td>False</td>\n",
       "      <td>False</td>\n",
       "      <td>False</td>\n",
       "      <td>False</td>\n",
       "      <td>False</td>\n",
       "    </tr>\n",
       "  </tbody>\n",
       "</table>\n",
       "<p>3 rows × 32 columns</p>\n",
       "</div>"
      ],
      "text/plain": [
       "   bedrooms  Ahuntsic / Cartierville  Anjou  Beaconsfield / Baie-D'Urfé  \\\n",
       "0         3                    False  False                       False   \n",
       "1         2                    False  False                       False   \n",
       "2         3                    False  False                       False   \n",
       "\n",
       "   Côte-St-Luc / Hampstead / Montréal-Ouest  \\\n",
       "0                                     False   \n",
       "1                                     False   \n",
       "2                                     False   \n",
       "\n",
       "   Côte-des-Neiges / Notre-Dame-de-Grâce  Dollard-Des-Ormeaux  \\\n",
       "0                                  False                False   \n",
       "1                                  False                False   \n",
       "2                                  False                False   \n",
       "\n",
       "   Dorval / L'Île Dorval  Griffintown  Kirkland  ...  Pointe-Claire  \\\n",
       "0                  False        False     False  ...          False   \n",
       "1                  False        False     False  ...          False   \n",
       "2                  False        False     False  ...          False   \n",
       "\n",
       "   Rivière des Prairies  Rosemont / La Petite Patrie  Saint-Laurent  \\\n",
       "0                 False                        False          False   \n",
       "1                 False                        False          False   \n",
       "2                 False                        False          False   \n",
       "\n",
       "   Saint-Léonard  Ste-Anne-De-Bellevue  Verdun  \\\n",
       "0          False                 False   False   \n",
       "1          False                 False   False   \n",
       "2          False                 False   False   \n",
       "\n",
       "   Ville-Marie (Centre-Ville et Vieux Mtl)  \\\n",
       "0                                    False   \n",
       "1                                    False   \n",
       "2                                    False   \n",
       "\n",
       "   Villeray / St-Michel / Parc-Extension  Westmount  \n",
       "0                                  False      False  \n",
       "1                                   True      False  \n",
       "2                                  False      False  \n",
       "\n",
       "[3 rows x 32 columns]"
      ]
     },
     "execution_count": 18,
     "metadata": {},
     "output_type": "execute_result"
    }
   ],
   "source": [
    "X.head(3)"
   ]
  },
  {
   "cell_type": "code",
   "execution_count": 19,
   "id": "6ed46935-004c-462d-9c09-bb5db349712e",
   "metadata": {},
   "outputs": [
    {
     "data": {
      "text/plain": [
       "0    849000.0\n",
       "1    420000.0\n",
       "2    699000.0\n",
       "3    349000.0\n",
       "4    959000.0\n",
       "Name: price, dtype: float64"
      ]
     },
     "execution_count": 19,
     "metadata": {},
     "output_type": "execute_result"
    }
   ],
   "source": [
    "Y = df6.price\n",
    "Y.head()"
   ]
  },
  {
   "cell_type": "code",
   "execution_count": 20,
   "id": "9aed1bfb-7400-4cf4-ab04-6a2d849f472a",
   "metadata": {},
   "outputs": [],
   "source": [
    "from sklearn.model_selection import train_test_split\n",
    "X_train, X_test, Y_train, Y_test = train_test_split(X,Y,test_size=0.2,random_state=10)"
   ]
  },
  {
   "cell_type": "code",
   "execution_count": 21,
   "id": "cbae4b99-fe36-4347-848d-8f309f0a18bf",
   "metadata": {},
   "outputs": [
    {
     "data": {
      "text/plain": [
       "0.3834324337847804"
      ]
     },
     "execution_count": 21,
     "metadata": {},
     "output_type": "execute_result"
    }
   ],
   "source": [
    "from sklearn.linear_model import LinearRegression\n",
    "lr_clf = LinearRegression()\n",
    "lr_clf.fit(X_train,Y_train)\n",
    "lr_clf.score(X_test,Y_test)"
   ]
  },
  {
   "cell_type": "code",
   "execution_count": 22,
   "id": "3e660982-100c-4053-a7e6-93889f5f2ccd",
   "metadata": {},
   "outputs": [
    {
     "data": {
      "text/plain": [
       "array([0.37670394, 0.31153223, 0.25901754, 0.30566959, 0.25450369])"
      ]
     },
     "execution_count": 22,
     "metadata": {},
     "output_type": "execute_result"
    }
   ],
   "source": [
    "from sklearn.model_selection import ShuffleSplit\n",
    "from sklearn.model_selection import cross_val_score\n",
    "\n",
    "cv = ShuffleSplit(n_splits=5, test_size=0.2, random_state=0)\n",
    "\n",
    "cross_val_score(LinearRegression(), X, Y, cv=cv)"
   ]
  },
  {
   "cell_type": "code",
   "execution_count": 23,
   "id": "e2219747-fddc-4747-bcb0-d5abb591010e",
   "metadata": {},
   "outputs": [
    {
     "name": "stderr",
     "output_type": "stream",
     "text": [
      "C:\\Users\\AlexC\\miniconda3\\Lib\\site-packages\\sklearn\\linear_model\\_coordinate_descent.py:695: ConvergenceWarning: Objective did not converge. You might want to increase the number of iterations, check the scale of the features or consider increasing regularisation. Duality gap: 5.667e+12, tolerance: 9.218e+09\n",
      "  model = cd_fast.enet_coordinate_descent(\n",
      "C:\\Users\\AlexC\\miniconda3\\Lib\\site-packages\\sklearn\\linear_model\\_coordinate_descent.py:695: ConvergenceWarning: Objective did not converge. You might want to increase the number of iterations, check the scale of the features or consider increasing regularisation. Duality gap: 6.759e+12, tolerance: 9.778e+09\n",
      "  model = cd_fast.enet_coordinate_descent(\n",
      "C:\\Users\\AlexC\\miniconda3\\Lib\\site-packages\\sklearn\\linear_model\\_coordinate_descent.py:695: ConvergenceWarning: Objective did not converge. You might want to increase the number of iterations, check the scale of the features or consider increasing regularisation. Duality gap: 4.926e+12, tolerance: 8.748e+09\n",
      "  model = cd_fast.enet_coordinate_descent(\n",
      "C:\\Users\\AlexC\\miniconda3\\Lib\\site-packages\\sklearn\\linear_model\\_coordinate_descent.py:695: ConvergenceWarning: Objective did not converge. You might want to increase the number of iterations, check the scale of the features or consider increasing regularisation. Duality gap: 5.099e+11, tolerance: 9.714e+09\n",
      "  model = cd_fast.enet_coordinate_descent(\n",
      "C:\\Users\\AlexC\\miniconda3\\Lib\\site-packages\\sklearn\\linear_model\\_coordinate_descent.py:695: ConvergenceWarning: Objective did not converge. You might want to increase the number of iterations, check the scale of the features or consider increasing regularisation. Duality gap: 1.850e+11, tolerance: 9.218e+09\n",
      "  model = cd_fast.enet_coordinate_descent(\n",
      "C:\\Users\\AlexC\\miniconda3\\Lib\\site-packages\\sklearn\\linear_model\\_coordinate_descent.py:695: ConvergenceWarning: Objective did not converge. You might want to increase the number of iterations, check the scale of the features or consider increasing regularisation. Duality gap: 1.162e+12, tolerance: 8.748e+09\n",
      "  model = cd_fast.enet_coordinate_descent(\n",
      "C:\\Users\\AlexC\\miniconda3\\Lib\\site-packages\\sklearn\\linear_model\\_coordinate_descent.py:695: ConvergenceWarning: Objective did not converge. You might want to increase the number of iterations, check the scale of the features or consider increasing regularisation. Duality gap: 2.093e+11, tolerance: 9.714e+09\n",
      "  model = cd_fast.enet_coordinate_descent(\n",
      "C:\\Users\\AlexC\\miniconda3\\Lib\\site-packages\\sklearn\\linear_model\\_coordinate_descent.py:695: ConvergenceWarning: Objective did not converge. You might want to increase the number of iterations, check the scale of the features or consider increasing regularisation. Duality gap: 3.806e+11, tolerance: 9.218e+09\n",
      "  model = cd_fast.enet_coordinate_descent(\n",
      "C:\\Users\\AlexC\\miniconda3\\Lib\\site-packages\\sklearn\\linear_model\\_coordinate_descent.py:695: ConvergenceWarning: Objective did not converge. You might want to increase the number of iterations, check the scale of the features or consider increasing regularisation. Duality gap: 3.100e+12, tolerance: 9.778e+09\n",
      "  model = cd_fast.enet_coordinate_descent(\n",
      "C:\\Users\\AlexC\\miniconda3\\Lib\\site-packages\\sklearn\\linear_model\\_coordinate_descent.py:695: ConvergenceWarning: Objective did not converge. You might want to increase the number of iterations, check the scale of the features or consider increasing regularisation. Duality gap: 8.190e+11, tolerance: 8.748e+09\n",
      "  model = cd_fast.enet_coordinate_descent(\n",
      "C:\\Users\\AlexC\\miniconda3\\Lib\\site-packages\\sklearn\\linear_model\\_coordinate_descent.py:695: ConvergenceWarning: Objective did not converge. You might want to increase the number of iterations, check the scale of the features or consider increasing regularisation. Duality gap: 1.892e+12, tolerance: 9.714e+09\n",
      "  model = cd_fast.enet_coordinate_descent(\n",
      "C:\\Users\\AlexC\\miniconda3\\Lib\\site-packages\\sklearn\\linear_model\\_coordinate_descent.py:695: ConvergenceWarning: Objective did not converge. You might want to increase the number of iterations, check the scale of the features or consider increasing regularisation. Duality gap: 1.852e+11, tolerance: 9.218e+09\n",
      "  model = cd_fast.enet_coordinate_descent(\n",
      "C:\\Users\\AlexC\\miniconda3\\Lib\\site-packages\\sklearn\\linear_model\\_coordinate_descent.py:695: ConvergenceWarning: Objective did not converge. You might want to increase the number of iterations, check the scale of the features or consider increasing regularisation. Duality gap: 1.735e+11, tolerance: 8.748e+09\n",
      "  model = cd_fast.enet_coordinate_descent(\n",
      "C:\\Users\\AlexC\\miniconda3\\Lib\\site-packages\\sklearn\\linear_model\\_coordinate_descent.py:695: ConvergenceWarning: Objective did not converge. You might want to increase the number of iterations, check the scale of the features or consider increasing regularisation. Duality gap: 2.096e+11, tolerance: 9.714e+09\n",
      "  model = cd_fast.enet_coordinate_descent(\n",
      "C:\\Users\\AlexC\\miniconda3\\Lib\\site-packages\\sklearn\\linear_model\\_coordinate_descent.py:695: ConvergenceWarning: Objective did not converge. You might want to increase the number of iterations, check the scale of the features or consider increasing regularisation. Duality gap: 2.567e+11, tolerance: 1.190e+10\n",
      "  model = cd_fast.enet_coordinate_descent(\n"
     ]
    },
    {
     "data": {
      "text/html": [
       "<div>\n",
       "<style scoped>\n",
       "    .dataframe tbody tr th:only-of-type {\n",
       "        vertical-align: middle;\n",
       "    }\n",
       "\n",
       "    .dataframe tbody tr th {\n",
       "        vertical-align: top;\n",
       "    }\n",
       "\n",
       "    .dataframe thead th {\n",
       "        text-align: right;\n",
       "    }\n",
       "</style>\n",
       "<table border=\"1\" class=\"dataframe\">\n",
       "  <thead>\n",
       "    <tr style=\"text-align: right;\">\n",
       "      <th></th>\n",
       "      <th>model</th>\n",
       "      <th>best_score</th>\n",
       "      <th>best_params</th>\n",
       "    </tr>\n",
       "  </thead>\n",
       "  <tbody>\n",
       "    <tr>\n",
       "      <th>0</th>\n",
       "      <td>linear_regression</td>\n",
       "      <td>0.301485</td>\n",
       "      <td>{'fit_intercept': True}</td>\n",
       "    </tr>\n",
       "    <tr>\n",
       "      <th>1</th>\n",
       "      <td>lasso</td>\n",
       "      <td>0.301709</td>\n",
       "      <td>{'alpha': 2, 'selection': 'cyclic'}</td>\n",
       "    </tr>\n",
       "    <tr>\n",
       "      <th>2</th>\n",
       "      <td>decision_tree</td>\n",
       "      <td>0.372153</td>\n",
       "      <td>{'criterion': 'friedman_mse', 'splitter': 'ran...</td>\n",
       "    </tr>\n",
       "  </tbody>\n",
       "</table>\n",
       "</div>"
      ],
      "text/plain": [
       "               model  best_score  \\\n",
       "0  linear_regression    0.301485   \n",
       "1              lasso    0.301709   \n",
       "2      decision_tree    0.372153   \n",
       "\n",
       "                                         best_params  \n",
       "0                            {'fit_intercept': True}  \n",
       "1                {'alpha': 2, 'selection': 'cyclic'}  \n",
       "2  {'criterion': 'friedman_mse', 'splitter': 'ran...  "
      ]
     },
     "execution_count": 23,
     "metadata": {},
     "output_type": "execute_result"
    }
   ],
   "source": [
    "from sklearn.model_selection import GridSearchCV\n",
    "\n",
    "from sklearn.linear_model import Lasso\n",
    "from sklearn.tree import DecisionTreeRegressor\n",
    "from sklearn.linear_model import LinearRegression\n",
    "\n",
    "def find_best_model_using_gridsearchcv(X,Y):\n",
    "    algos = {\n",
    "        'linear_regression' : {\n",
    "            'model' : LinearRegression(),\n",
    "            'params' : {\n",
    "                'fit_intercept': [True, False]\n",
    "            }\n",
    "        },\n",
    "        'lasso': { \n",
    "            'model': Lasso(),\n",
    "            'params': {\n",
    "                'alpha': [1,2],\n",
    "                'selection':['random','cyclic']\n",
    "            }\n",
    "        },\n",
    "        'decision_tree': {\n",
    "            'model': DecisionTreeRegressor(),\n",
    "            'params': {\n",
    "                'criterion': ['squared_error', 'friedman_mse'],\n",
    "                'splitter': ['best','random']\n",
    "            }\n",
    "        }\n",
    "    }\n",
    "    scores = []\n",
    "    cv = ShuffleSplit(n_splits=5, test_size=0.2, random_state=0)\n",
    "    for algo_name, config in algos.items():\n",
    "        gs = GridSearchCV(config['model'], config['params'], cv=cv, return_train_score=False)\n",
    "        gs.fit(X,Y)\n",
    "        scores.append({\n",
    "            'model': algo_name,\n",
    "            'best_score': gs.best_score_,\n",
    "            'best_params': gs.best_params_\n",
    "        })\n",
    "\n",
    "    return pd.DataFrame(scores,columns=['model','best_score','best_params'])\n",
    "find_best_model_using_gridsearchcv(X,Y)"
   ]
  },
  {
   "cell_type": "code",
   "execution_count": 24,
   "id": "6753df9f-eaf1-49a0-b2c3-da20f43a7cbd",
   "metadata": {},
   "outputs": [],
   "source": [
    "def predict_price(region, bedrooms):\n",
    "    loc_index = np.where(X.columns==region)[0][0]\n",
    "\n",
    "    x = np.zeros(len(X.columns))\n",
    "    x[0] = bedrooms\n",
    "    if loc_index >= 0:\n",
    "        x[loc_index] = 1\n",
    "\n",
    "    return lr_clf.predict([x])[0]\n"
   ]
  },
  {
   "cell_type": "code",
   "execution_count": 25,
   "id": "45f48c74-713e-4e77-9fcc-428014cfe7ba",
   "metadata": {},
   "outputs": [
    {
     "name": "stderr",
     "output_type": "stream",
     "text": [
      "C:\\Users\\AlexC\\miniconda3\\Lib\\site-packages\\sklearn\\utils\\validation.py:2749: UserWarning: X does not have valid feature names, but LinearRegression was fitted with feature names\n",
      "  warnings.warn(\n"
     ]
    },
    {
     "data": {
      "text/plain": [
       "np.float64(869286.8397715492)"
      ]
     },
     "execution_count": 25,
     "metadata": {},
     "output_type": "execute_result"
    }
   ],
   "source": [
    "predict_price('Westmount', 2)"
   ]
  },
  {
   "cell_type": "code",
   "execution_count": 26,
   "id": "ead5f1ee-9da1-41d8-90ef-e76ad55c1b13",
   "metadata": {},
   "outputs": [],
   "source": [
    "import pickle\n",
    "with open('clean_Montreal_property_listings','wb') as f:\n",
    "    pickle.dump(lr_clf,f)"
   ]
  },
  {
   "cell_type": "code",
   "execution_count": 27,
   "id": "73f9699e-dd26-4faf-bebe-6a5bf7244953",
   "metadata": {},
   "outputs": [],
   "source": [
    "import json\n",
    "columns = {\n",
    "    'data_columns' : [col.lower() for col in X.columns]\n",
    "}\n",
    "with open(\"columns.json\",\"w\") as f:\n",
    "    f.write(json.dumps(columns))"
   ]
  },
  {
   "cell_type": "code",
   "execution_count": 33,
   "id": "7c480b5f-25de-49b1-87fe-e942d350a7ea",
   "metadata": {},
   "outputs": [
    {
     "name": "stderr",
     "output_type": "stream",
     "text": [
      "C:\\Users\\AlexC\\miniconda3\\Lib\\site-packages\\sklearn\\utils\\validation.py:2749: UserWarning: X does not have valid feature names, but LinearRegression was fitted with feature names\n",
      "  warnings.warn(\n"
     ]
    },
    {
     "data": {
      "text/plain": [
       "np.float64(285814.0257528608)"
      ]
     },
     "execution_count": 33,
     "metadata": {},
     "output_type": "execute_result"
    }
   ],
   "source": [
    "predict_price('Dollard-Des-Ormeaux', 1)"
   ]
  },
  {
   "cell_type": "code",
   "execution_count": null,
   "id": "1fd766fc-38ff-4a0e-95a0-b291202560b6",
   "metadata": {},
   "outputs": [],
   "source": []
  }
 ],
 "metadata": {
  "kernelspec": {
   "display_name": "Python 3 (ipykernel)",
   "language": "python",
   "name": "python3"
  },
  "language_info": {
   "codemirror_mode": {
    "name": "ipython",
    "version": 3
   },
   "file_extension": ".py",
   "mimetype": "text/x-python",
   "name": "python",
   "nbconvert_exporter": "python",
   "pygments_lexer": "ipython3",
   "version": "3.12.7"
  }
 },
 "nbformat": 4,
 "nbformat_minor": 5
}
